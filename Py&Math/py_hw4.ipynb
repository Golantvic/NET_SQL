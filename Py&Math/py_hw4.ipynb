{
 "cells": [
  {
   "cell_type": "markdown",
   "metadata": {},
   "source": [
    "# Домашняя работа 4"
   ]
  },
  {
   "cell_type": "markdown",
   "metadata": {},
   "source": [
    "### Задание 1\n",
    "\n",
    "Напишите функцию date_range, которая возвращает список дней между датами start_date и end_date. Даты должны вводиться в формате YYYY-MM-DD."
   ]
  },
  {
   "cell_type": "code",
   "execution_count": 1,
   "metadata": {},
   "outputs": [],
   "source": [
    "start_date = '2019-03-11'\n",
    "end_date = '2019-04-08'"
   ]
  },
  {
   "cell_type": "code",
   "execution_count": 2,
   "metadata": {},
   "outputs": [],
   "source": [
    "def date_range (start_date, end_date):\n",
    "    curent_date = start_date\n",
    "    \n",
    "    from datetime import datetime\n",
    "    from datetime import timedelta\n",
    "\n",
    "    curent_date_dt = datetime.strptime(curent_date, '%Y-%m-%d')\n",
    "    end_date_dt = datetime.strptime(end_date, '%Y-%m-%d')\n",
    "    \n",
    "    while curent_date_dt <= end_date_dt:\n",
    "        curent_date_dt += timedelta (days=1)\n",
    "        print(curent_date_dt.strftime('%Y-%m-%d'))    "
   ]
  },
  {
   "cell_type": "code",
   "execution_count": 3,
   "metadata": {},
   "outputs": [
    {
     "name": "stdout",
     "output_type": "stream",
     "text": [
      "2019-03-12\n",
      "2019-03-13\n",
      "2019-03-14\n",
      "2019-03-15\n",
      "2019-03-16\n",
      "2019-03-17\n",
      "2019-03-18\n",
      "2019-03-19\n",
      "2019-03-20\n",
      "2019-03-21\n",
      "2019-03-22\n",
      "2019-03-23\n",
      "2019-03-24\n",
      "2019-03-25\n",
      "2019-03-26\n",
      "2019-03-27\n",
      "2019-03-28\n",
      "2019-03-29\n",
      "2019-03-30\n",
      "2019-03-31\n",
      "2019-04-01\n",
      "2019-04-02\n",
      "2019-04-03\n",
      "2019-04-04\n",
      "2019-04-05\n",
      "2019-04-06\n",
      "2019-04-07\n",
      "2019-04-08\n",
      "2019-04-09\n"
     ]
    }
   ],
   "source": [
    "date_range (start_date, end_date)"
   ]
  },
  {
   "cell_type": "markdown",
   "metadata": {},
   "source": [
    "### Задание 2\n",
    "\n",
    "Дополните функцию из первого задания проверкой на корректность дат. В случае неверного формата или если start_date > end_date должен возвращаться пустой список."
   ]
  },
  {
   "cell_type": "code",
   "execution_count": 4,
   "metadata": {},
   "outputs": [],
   "source": [
    "start_date = '2019-03-11T09:09'\n",
    "end_date = '2019-04-08'"
   ]
  },
  {
   "cell_type": "code",
   "execution_count": 5,
   "metadata": {},
   "outputs": [],
   "source": [
    "def date_range (start_date, end_date):\n",
    "    if start_date > end_date:\n",
    "        print([])\n",
    "    else:\n",
    "        curent_date = start_date\n",
    "\n",
    "        from datetime import datetime\n",
    "        from datetime import timedelta\n",
    "\n",
    "        try:\n",
    "            curent_date_dt = datetime.strptime(curent_date, '%Y-%m-%d')\n",
    "            end_date_dt = datetime.strptime(end_date, '%Y-%m-%d')\n",
    "\n",
    "            while curent_date_dt <= end_date_dt:\n",
    "                curent_date_dt += timedelta (days=1)\n",
    "                print(curent_date_dt.strftime('%Y-%m-%d'))\n",
    "        except Exception:\n",
    "            print([])\n",
    "            "
   ]
  },
  {
   "cell_type": "code",
   "execution_count": 6,
   "metadata": {},
   "outputs": [
    {
     "name": "stdout",
     "output_type": "stream",
     "text": [
      "[]\n"
     ]
    }
   ],
   "source": [
    "date_range (start_date, end_date)"
   ]
  },
  {
   "cell_type": "markdown",
   "metadata": {},
   "source": [
    "### Задание 3\n",
    "\n",
    "Дан поток дат в формате YYYY-MM-DD, в которых встречаются некорректные значения:\n",
    "stream = [‘2018-04-02’, ‘2018-02-29’, ‘2018-19-02’]\n",
    "Напишите функцию, которая проверяет эти даты на корректность. Т. е. для каждой даты возвращает True (дата корректна) или False (некорректная дата)."
   ]
  },
  {
   "cell_type": "code",
   "execution_count": 7,
   "metadata": {},
   "outputs": [],
   "source": [
    "stream = ['2018-04-02', '2018-02-29', '2018-19-02']"
   ]
  },
  {
   "cell_type": "code",
   "execution_count": 8,
   "metadata": {},
   "outputs": [],
   "source": [
    "def correct_check (stream):\n",
    "    \n",
    "    from datetime import datetime\n",
    "    from datetime import timedelta\n",
    "    \n",
    "    for date in stream:\n",
    "\n",
    "        try:\n",
    "            stream_dt = datetime.strptime(date, '%Y-%m-%d')\n",
    "            print(date, 'is True')\n",
    "\n",
    "        except Exception:\n",
    "            print (date, 'is False')"
   ]
  },
  {
   "cell_type": "code",
   "execution_count": 9,
   "metadata": {},
   "outputs": [
    {
     "name": "stdout",
     "output_type": "stream",
     "text": [
      "2018-04-02 is True\n",
      "2018-02-29 is False\n",
      "2018-19-02 is False\n"
     ]
    }
   ],
   "source": [
    "correct_check (stream)"
   ]
  },
  {
   "cell_type": "markdown",
   "metadata": {},
   "source": [
    "### Задание 4\n",
    "\n",
    "Напишите функцию, которая возвращает список дат с 1 по вчерашний день текущего месяца. Если дан 1 день месяца, то возвращается список дней прошлого месяца."
   ]
  },
  {
   "cell_type": "code",
   "execution_count": 10,
   "metadata": {},
   "outputs": [],
   "source": [
    "def date_list ():\n",
    "    from datetime import datetime\n",
    "    from datetime import timedelta\n",
    "    \n",
    "    current_date = datetime.now()\n",
    "    \n",
    "    yesterday_td = current_date - timedelta(days=1)\n",
    "    yesterday = datetime.strftime(yesterday_td, '%Y-%m-%d')\n",
    "    \n",
    "    start_date = datetime.strftime(yesterday_td, '%Y-%m-01')\n",
    "    current_date = start_date\n",
    "    \n",
    "    check_day = datetime.strptime(yesterday, '%Y-%m-%d').day\n",
    "    \n",
    "    if check_day != 1:\n",
    "        while current_date < yesterday:\n",
    "            print(current_date)\n",
    "\n",
    "            current_date_dt = datetime.strptime(current_date, '%Y-%m-%d')\n",
    "            current_date_dt += timedelta(days=1)\n",
    "            current_date = datetime.strftime(current_date_dt, '%Y-%m-%d')\n",
    "    else:\n",
    "        current_date = datetime.strftime(yesterday_td, '%Y-%m-01')\n",
    "    \n",
    "        while current_date < yesterday:\n",
    "            print(current_date)\n",
    "\n",
    "            current_date_dt = datetime.strptime(current_date, '%Y-%m-%d')\n",
    "            current_date_dt += timedelta(days=1)\n",
    "            current_date = datetime.strftime(current_date_dt, '%Y-%m-%d')"
   ]
  },
  {
   "cell_type": "code",
   "execution_count": 11,
   "metadata": {},
   "outputs": [
    {
     "name": "stdout",
     "output_type": "stream",
     "text": [
      "2019-04-01\n",
      "2019-04-02\n",
      "2019-04-03\n",
      "2019-04-04\n",
      "2019-04-05\n",
      "2019-04-06\n",
      "2019-04-07\n",
      "2019-04-08\n"
     ]
    }
   ],
   "source": [
    "date_list ()"
   ]
  },
  {
   "cell_type": "markdown",
   "metadata": {},
   "source": [
    "### Задание 5\n",
    "\n",
    "Напишите функцию, которая возвращает точную дату в формате YYYY-MM-DD по фразе:\n",
    "\n",
    "‘today’ - сегодняшнюю дату\n",
    "‘last monday’ - прошлый понедельник\n",
    "‘last day’ - Последний день текущего месяца"
   ]
  },
  {
   "cell_type": "code",
   "execution_count": 3,
   "metadata": {},
   "outputs": [],
   "source": [
    "def direct_date():\n",
    "    from datetime import datetime\n",
    "    from datetime import timedelta\n",
    " \n",
    "    request = input('What day do you want to know?\\nAvailable options: today, last monday or last day\\n')\n",
    "\n",
    "    now_date = datetime.now()\n",
    "    \n",
    "    if request == 'today':\n",
    "        today = datetime.strftime(now_date, '%Y-%m-%d')\n",
    "        result = today\n",
    "    elif request == 'last monday':\n",
    "        \n",
    "        weekday = now_date.weekday()\n",
    "        \n",
    "        if weekday == 0:\n",
    "            last_monday_td = now_date - timedelta(days=6)\n",
    "            last_monday = datetime.strftime(last_monday_td, '%Y-%m-%d')\n",
    "        else:\n",
    "            last_monday_td = now_date - timedelta(days=weekday)\n",
    "            last_monday = datetime.strftime(last_monday_td, '%Y-%m-%d')      \n",
    "        \n",
    "        result = last_monday\n",
    "    \n",
    "    elif request == 'last day':\n",
    "          \n",
    "        next_month_for_today = now_date.month + 1\n",
    "        today_in_next_month = now_date.replace(month = next_month_for_today)\n",
    "        first_day_in_next_month = datetime.strftime(today_in_next_month, '%Y-%m-01')\n",
    "\n",
    "        last_day_td = datetime.strptime(first_day_in_next_month, '%Y-%m-%d') - timedelta(days=1)\n",
    "        last_day = datetime.strftime(last_day_td, '%Y-%m-%d')    \n",
    "        \n",
    "        result = last_day\n",
    "    \n",
    "    return result"
   ]
  },
  {
   "cell_type": "code",
   "execution_count": 4,
   "metadata": {},
   "outputs": [
    {
     "name": "stdout",
     "output_type": "stream",
     "text": [
      "What day do you want to know?\n",
      "Available options: today, last monday or last day\n",
      "last day\n"
     ]
    },
    {
     "data": {
      "text/plain": [
       "'2019-04-30'"
      ]
     },
     "execution_count": 4,
     "metadata": {},
     "output_type": "execute_result"
    }
   ],
   "source": [
    "direct_date()"
   ]
  }
 ],
 "metadata": {
  "kernelspec": {
   "display_name": "Python 3",
   "language": "python",
   "name": "python3"
  },
  "language_info": {
   "codemirror_mode": {
    "name": "ipython",
    "version": 3
   },
   "file_extension": ".py",
   "mimetype": "text/x-python",
   "name": "python",
   "nbconvert_exporter": "python",
   "pygments_lexer": "ipython3",
   "version": "3.7.1"
  }
 },
 "nbformat": 4,
 "nbformat_minor": 2
}
